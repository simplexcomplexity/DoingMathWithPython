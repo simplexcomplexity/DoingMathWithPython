{
 "cells": [
  {
   "cell_type": "markdown",
   "metadata": {},
   "source": [
    "# 미적분 문제 풀기\n",
    "\n",
    "* 여기서는 함수의 미분과 적분을 SymPy를 이용하여 다룬다."
   ]
  },
  {
   "cell_type": "markdown",
   "metadata": {},
   "source": [
    "## 함수란?\n",
    "\n",
    "* Wikipedia에서 : In mathematics, a function is a relation between a set of inputs and a set of permissible outputs with the property that each input is related to exactly one output.\n",
    "* ‘x’는 독립변수\n",
    "* 함수 도메인(Function Domain)는 유효한 입력값의 집합\n",
    "* 범위 : 함수의 결과집합\n",
    "\n",
    "참고 : https://en.wikipedia.org/wiki/Function_(mathematics)"
   ]
  },
  {
   "cell_type": "markdown",
   "metadata": {},
   "source": [
    "## 일반적인 수학 함수에 대한 개요\n",
    "\n",
    "* Python에서는 math library를 이용하여 일반적인 수학함수를 사용할 수 있다.\n",
    "* math.sin(), math.cos(), math.log(), math.log2(), math.log10(), math.exp() 등이 있다.\n",
    "* 이러한 모든 함수의 단점은 부호수식으로 작업하기에는 부적합하다는 점이다.\n"
   ]
  },
  {
   "cell_type": "code",
   "execution_count": null,
   "metadata": {
    "collapsed": false,
    "scrolled": true
   },
   "outputs": [],
   "source": [
    "import math\n",
    "print math.sin(math.pi/2)"
   ]
  },
  {
   "cell_type": "code",
   "execution_count": null,
   "metadata": {
    "collapsed": false
   },
   "outputs": [],
   "source": [
    "from sympy import Symbol\n",
    "theta = Symbol('theta')\n",
    "print math.sin(theta) + math.sin(theta)"
   ]
  },
  {
   "cell_type": "code",
   "execution_count": null,
   "metadata": {
    "collapsed": false
   },
   "outputs": [],
   "source": [
    "import sympy\n",
    "sympy.sin(theta) + sympy.sin(theta)"
   ]
  },
  {
   "cell_type": "markdown",
   "metadata": {},
   "source": [
    "## EXAMPLE II\n",
    "\n",
    "특정한 각도 $\\theta$로 공을 던졌을때, 가장 높은 지점에 도달할때의 시간 t는?\n",
    "\n",
    "$u \\sin(\\theta) - g t = 0$"
   ]
  },
  {
   "cell_type": "code",
   "execution_count": null,
   "metadata": {
    "collapsed": false
   },
   "outputs": [],
   "source": [
    "from sympy import sin, solve, Symbol\n",
    "u = Symbol('u')\n",
    "t = Symbol('t')\n",
    "g = Symbol('g')\n",
    "theta = Symbol('theta')\n",
    "print solve(u * sin(theta) - g * t, t)"
   ]
  },
  {
   "cell_type": "markdown",
   "metadata": {},
   "source": [
    "## SymPy"
   ]
  },
  {
   "cell_type": "code",
   "execution_count": null,
   "metadata": {
    "collapsed": false
   },
   "outputs": [],
   "source": [
    "from sympy import Symbol\n",
    "x = Symbol('x')\n",
    "if (x+5) > 0:\n",
    "    print 'Do Something'\n",
    "else:\n",
    "    print 'Do Something Else'"
   ]
  },
  {
   "cell_type": "code",
   "execution_count": null,
   "metadata": {
    "collapsed": false
   },
   "outputs": [],
   "source": [
    "x = Symbol('x', positive=True) # Hint!!\n",
    "if (x+5) > 0:\n",
    "    print 'Do Something'\n",
    "else:\n",
    "    print 'Do Something Else'"
   ]
  },
  {
   "cell_type": "code",
   "execution_count": null,
   "metadata": {
    "collapsed": false
   },
   "outputs": [],
   "source": [
    "x = Symbol('x', negative=True) # Hint!!\n",
    "if (x+5) > 0:\n",
    "    print 'Do Something'\n",
    "else:\n",
    "    print 'Do Something Else'"
   ]
  },
  {
   "cell_type": "markdown",
   "metadata": {},
   "source": [
    "## 함수의 극한 계산기\n",
    "\n",
    "$$\n",
    "\\lim_{x\\rightarrow \\infty}\\frac{1}{x}=0\n",
    "$$"
   ]
  },
  {
   "cell_type": "code",
   "execution_count": null,
   "metadata": {
    "collapsed": false
   },
   "outputs": [],
   "source": [
    "from sympy import Limit, Symbol, S\n",
    "x = Symbol('x')\n",
    "print Limit(1/x, x, S.Infinity)"
   ]
  },
  {
   "cell_type": "code",
   "execution_count": null,
   "metadata": {
    "collapsed": true
   },
   "outputs": [],
   "source": [
    "l = Limit(1/x, x, S.Infinity)"
   ]
  },
  {
   "cell_type": "code",
   "execution_count": null,
   "metadata": {
    "collapsed": false
   },
   "outputs": [],
   "source": [
    "l.doit()"
   ]
  },
  {
   "cell_type": "markdown",
   "metadata": {},
   "source": [
    "$$\n",
    "\\lim_{x\\rightarrow -0}\\frac{1}{x}=?\n",
    "$$"
   ]
  },
  {
   "cell_type": "code",
   "execution_count": null,
   "metadata": {
    "collapsed": false
   },
   "outputs": [],
   "source": [
    "print Limit(1/x, x, 0, dir='-').doit()"
   ]
  },
  {
   "cell_type": "code",
   "execution_count": null,
   "metadata": {
    "collapsed": false
   },
   "outputs": [],
   "source": [
    "print Limit(1/x, x, 0, dir='+').doit()"
   ]
  },
  {
   "cell_type": "markdown",
   "metadata": {},
   "source": [
    "$$\n",
    "\\lim_{x \\rightarrow 0}\\frac{\\sin(x)}{x}=?\n",
    "$$"
   ]
  },
  {
   "cell_type": "code",
   "execution_count": null,
   "metadata": {
    "collapsed": false
   },
   "outputs": [],
   "source": [
    "from sympy import Symbol, sin\n",
    "print Limit(sin(x)/x, x, 0).doit()"
   ]
  },
  {
   "cell_type": "markdown",
   "metadata": {},
   "source": [
    "## 복리\n",
    "\n",
    "$$\n",
    "A = \\left( 1+\\frac{1}{n} \\right)^{n}\n",
    "$$"
   ]
  },
  {
   "cell_type": "code",
   "execution_count": null,
   "metadata": {
    "collapsed": false
   },
   "outputs": [],
   "source": [
    "from sympy import Limit, Symbol, S\n",
    "n = Symbol('n')\n",
    "print Limit((1+1/n)**n, n, S.Infinity).doit()"
   ]
  },
  {
   "cell_type": "markdown",
   "metadata": {},
   "source": [
    "* 원금 P, 이자율 r과 기간(년) t에 대한 복리이자는 다음과 같은 공식으로...\n",
    "\n",
    "$$\n",
    "A = P \\left( 1 + \\frac{r}{n} \\right) ^{nt} $$"
   ]
  },
  {
   "cell_type": "code",
   "execution_count": null,
   "metadata": {
    "collapsed": false
   },
   "outputs": [],
   "source": [
    "from sympy import Symbol, Limit, S\n",
    "p = Symbol('p', positive = True)\n",
    "r = Symbol('r', positive = True)\n",
    "t = Symbol('t', positive = True)\n",
    "print Limit(p*(1+r/n)**(n*t), n, S.Infinity).doit()"
   ]
  },
  {
   "cell_type": "markdown",
   "metadata": {},
   "source": [
    "## 실시간 변화율\n",
    "\n",
    "자동차의 이동거리는 다음과 같은 함수로 주어진다고 생각하자.\n",
    "\n",
    "$$ S(t) = 5t^2+2t+8 $$\n",
    "\n",
    "만일 $t_{2}>t_{1}$인 시간 $t_1$과 $t_2$ 동안 이동한 거리를 단위 시간당 거리로 표현한다면,\n",
    "\n",
    "$$\n",
    "\\frac{S(t_2)-S(t_1)}{t_2-t_1}\n",
    "$$\n",
    "\n",
    "이를 다음과 같이 변화시키자.\n",
    "\n",
    "$$\n",
    "\\frac{S(t_1+\\delta_t)-S(t_1)}{\\delta_{t}}\n",
    "$$\n",
    "\n",
    "이는 $t_1$에서의 $\\delta_t$만큼의 시간 동안의 평균 속도를 계산한 것과 같다. 이때 $\\delta_t$를 $\\infty$로 보내는 극한을 취하면, \n",
    "\n",
    "$$\n",
    "\\lim_{\\delta_t \\rightarrow 0} \\frac{S(t_{1}+\\delta_t)-S(t_1)}{\\delta_{t}}\n",
    "$$\n",
    "\n",
    "미분꼴로 표현할 수 있게 된다."
   ]
  },
  {
   "cell_type": "code",
   "execution_count": null,
   "metadata": {
    "collapsed": true
   },
   "outputs": [],
   "source": [
    "from sympy import Symbol, Limit\n",
    "t = Symbol('t')\n",
    "St = 5*t**2+2*t+8"
   ]
  },
  {
   "cell_type": "code",
   "execution_count": null,
   "metadata": {
    "collapsed": true
   },
   "outputs": [],
   "source": [
    "t1 = Symbol('t1')\n",
    "delta_t = Symbol('delta_t')"
   ]
  },
  {
   "cell_type": "code",
   "execution_count": null,
   "metadata": {
    "collapsed": true
   },
   "outputs": [],
   "source": [
    "St1 = St.subs({t: t1}) # St함수에서 t에 t1을 대입\n",
    "St1_delta = St.subs({t: t1 + delta_t})"
   ]
  },
  {
   "cell_type": "code",
   "execution_count": null,
   "metadata": {
    "collapsed": false
   },
   "outputs": [],
   "source": [
    "print Limit((St1_delta - St1)/delta_t, delta_t, 0).doit()"
   ]
  },
  {
   "cell_type": "markdown",
   "metadata": {},
   "source": [
    "## 함수의 미분\n",
    "\n",
    "* 이걸 쫌더 편하게 해보자"
   ]
  },
  {
   "cell_type": "code",
   "execution_count": null,
   "metadata": {
    "collapsed": false
   },
   "outputs": [],
   "source": [
    "from sympy import Symbol, Derivative\n",
    "Derivative(St, t)"
   ]
  },
  {
   "cell_type": "code",
   "execution_count": null,
   "metadata": {
    "collapsed": false
   },
   "outputs": [],
   "source": [
    "d = Derivative(St, t)\n",
    "print d.doit()"
   ]
  },
  {
   "cell_type": "code",
   "execution_count": null,
   "metadata": {
    "collapsed": false
   },
   "outputs": [],
   "source": [
    "print d.doit().subs({t:t1})"
   ]
  },
  {
   "cell_type": "code",
   "execution_count": null,
   "metadata": {
    "collapsed": false
   },
   "outputs": [],
   "source": [
    "print d.doit().subs({t:1})"
   ]
  },
  {
   "cell_type": "markdown",
   "metadata": {},
   "source": [
    "* Problem!!\n",
    "\n",
    "$$ (x^3+x^2+x) (x^2+x) $$"
   ]
  },
  {
   "cell_type": "code",
   "execution_count": null,
   "metadata": {
    "collapsed": false
   },
   "outputs": [],
   "source": [
    "from sympy import Symbol, Derivative, sympify, pprint\n",
    "from sympy.core.sympify import SympifyError\n",
    "x = Symbol('x')\n",
    "f = (x**3+x**2+x)*(x**2+x)\n",
    "print Derivative(f, x).doit()\n"
   ]
  },
  {
   "cell_type": "markdown",
   "metadata": {},
   "source": [
    "* Problem\n",
    "$$\n",
    "\\frac{\\partial f}{\\partial x} = 2y + y^2\n",
    "$$"
   ]
  },
  {
   "cell_type": "markdown",
   "metadata": {},
   "source": [
    "## 고차 미분과 최대, 최소값 구하기\n",
    "\n",
    "1차 미분과 2차 미분의 결과를 이용하여 최대값과 최소값을 구하는 방식에 대한 것이다."
   ]
  },
  {
   "cell_type": "code",
   "execution_count": null,
   "metadata": {
    "collapsed": true
   },
   "outputs": [],
   "source": [
    "%matplotlib inline"
   ]
  },
  {
   "cell_type": "code",
   "execution_count": null,
   "metadata": {
    "collapsed": true
   },
   "outputs": [],
   "source": [
    "import matplotlib.pyplot as plt\n",
    "import numpy as np"
   ]
  },
  {
   "cell_type": "code",
   "execution_count": null,
   "metadata": {
    "collapsed": false
   },
   "outputs": [],
   "source": [
    "x = np.linspace(-5,5,1000)\n",
    "y = x**5-30*x**3+50*x"
   ]
  },
  {
   "cell_type": "code",
   "execution_count": null,
   "metadata": {
    "collapsed": false
   },
   "outputs": [],
   "source": [
    "plt.plot(x, y)"
   ]
  },
  {
   "cell_type": "code",
   "execution_count": null,
   "metadata": {
    "collapsed": true
   },
   "outputs": [],
   "source": [
    "from sympy import Symbol, solve, Derivative\n",
    "x = Symbol('x')\n",
    "f = x**5 - 30*x**3+50*x\n",
    "d1 = Derivative(f, x).doit()"
   ]
  },
  {
   "cell_type": "markdown",
   "metadata": {},
   "source": [
    "$f'(x)=0$을 계산해보자"
   ]
  },
  {
   "cell_type": "code",
   "execution_count": null,
   "metadata": {
    "collapsed": true
   },
   "outputs": [],
   "source": [
    "critical_points = solve(d1)"
   ]
  },
  {
   "cell_type": "code",
   "execution_count": null,
   "metadata": {
    "collapsed": false
   },
   "outputs": [],
   "source": [
    "print critical_points"
   ]
  },
  {
   "cell_type": "code",
   "execution_count": null,
   "metadata": {
    "collapsed": true
   },
   "outputs": [],
   "source": [
    "d2 = Derivative(f, x, 2).doit() # 2차 미분"
   ]
  },
  {
   "cell_type": "code",
   "execution_count": null,
   "metadata": {
    "collapsed": false
   },
   "outputs": [],
   "source": [
    "for val in critical_points:\n",
    "    print d2.subs({x:val}).evalf() # evaluation"
   ]
  },
  {
   "cell_type": "code",
   "execution_count": null,
   "metadata": {
    "collapsed": false
   },
   "outputs": [],
   "source": [
    "for val in critical_points:\n",
    "    print f.subs({x:val}).evalf() # evaluation"
   ]
  },
  {
   "cell_type": "markdown",
   "metadata": {},
   "source": [
    "## Gradient Ascent를 이용한 전역 최대값 알아내기\n",
    "\n",
    "* 반복적으로 수행하는 접근법\n",
    "\n",
    "$$\n",
    "t_{flight}=2 \\frac{u \\sin{\\theta}}{g} \\\\\n",
    "R=u\\cos{\\theta} \\times \\frac{2u\\sin{\\theta}}{g}=\\frac{u^2 \\sin{2 \\theta}}{g}\n",
    "$$\n",
    "\n",
    "$$\n",
    "\\theta_{new} = \\theta_{old} + \\lambda \\frac{dR}{d \\theta}\n",
    "$$\n",
    "\n",
    "을 이용한다."
   ]
  },
  {
   "cell_type": "markdown",
   "metadata": {},
   "source": [
    "1. 앞의 방정식을 이용해 $\\theta_{new}$를 계산한다.\n",
    "2. $\\theta_{new} - \\theta_{old}$ 절대차이가 값 $\\epsilon$보다 크다면, $\\theta_{old}=\\theta_{new}$라고 설정하고 1단계로 리턴한다. 그렇지 않다면 3단계로 간다.\n",
    "3. $\\theta_{new}$는 $\\theta$의 추정값으로 이 값에 대해 R은 최대값을 갖는다."
   ]
  },
  {
   "cell_type": "code",
   "execution_count": null,
   "metadata": {
    "collapsed": false
   },
   "outputs": [],
   "source": [
    "import math\n",
    "from sympy import Derivative, Symbol, sin\n",
    "\n",
    "def grad_ascent(x0, f1x, x):\n",
    "    epsilon = 1e-6\n",
    "    step_size = 1e-4\n",
    "    x_old = x0\n",
    "    x_new = x_old + step_size * f1x.subs({x:x_old}).evalf()\n",
    "    while abs(x_old - x_new) > epsilon:\n",
    "        x_old = x_new\n",
    "        x_new = x_old + step_size * f1x.subs({x:x_old}).evalf()\n",
    "        \n",
    "    return x_new\n",
    "\n",
    "def find_max_theta(R, theta):\n",
    "    R1theta = Derivative(R, theta).doit()\n",
    "    theta0 = -2\n",
    "    theta_max = grad_ascent(theta0, R1theta, theta)\n",
    "    return theta_max\n",
    "\n",
    "g = 9.8\n",
    "u = 25\n",
    "theta = Symbol('theta')\n",
    "R = (u**2)*sin(2*theta)/g\n",
    "\n",
    "theta_max = find_max_theta(R, theta)\n",
    "print math.degrees(theta_max)\n",
    "print R.subs({theta:theta_max})"
   ]
  },
  {
   "cell_type": "code",
   "execution_count": null,
   "metadata": {
    "collapsed": false
   },
   "outputs": [],
   "source": [
    "#P193: This is the program corresponding to Figure 7-5\n",
    "'''\n",
    "Find the angle at which the projectile has maximum range for\n",
    "a fixed velocty, u. This also shows the intermediate points.\n",
    "'''\n",
    "\n",
    "import math\n",
    "import matplotlib.pyplot as plt\n",
    "from sympy import Derivative, Symbol, sin, cos, solve\n",
    "\n",
    "def plot_range_theta(u):\n",
    "    g = 9.8\n",
    "    angles = range(0, 90, 1)\n",
    "    R = [u**2*math.sin(math.radians(2*angle))/g for angle in angles]\n",
    "    plt.plot(angles, R)\n",
    "    # Use LaTex for the X-axis label\n",
    "    #plt.rc('text', usetex=True)\n",
    "    plt.plot(angles, R)\n",
    "    #plt.xlabel(r'$\\theta$ : Angle of projection (degrees)')\n",
    "    plt.ylabel('R: Distance traveled by projectile (meters)')\n",
    "\n",
    "def grad_ascent(x0, f1x):\n",
    "    theta = Symbol('theta')\n",
    "    epsilon =  1e-6\n",
    "    step_size = 1e-4\n",
    "    x_old = x0\n",
    "    x_new = x_old + step_size*f1x.subs({theta:x_old}).evalf()\n",
    "\n",
    "    X = []\n",
    "    while abs(x_old - x_new) > epsilon:\n",
    "        X.append(x_new)\n",
    "        x_old = x_new\n",
    "        x_new = x_old + step_size*f1x.subs({theta:x_old}).evalf()\n",
    "\n",
    "    return x_new, X\n",
    "\n",
    "def find_max_theta(R, theta):\n",
    "    # Calculate the first derivative\n",
    "    R1theta = Derivative(R, theta).doit()\n",
    "    theta0 = 1e-3\n",
    "    theta_max, X = grad_ascent(0.001, R1theta)\n",
    "    return math.degrees(theta_max.evalf()), X\n",
    "\n",
    "if __name__ == '__main__':\n",
    "    g = 9.8\n",
    "    # Assume initial velocity\n",
    "    u = 25\n",
    "    plot_range_theta(u)\n",
    "    theta = Symbol('theta')\n",
    "    # Expression for range\n",
    "    R = u**2*sin(2*theta)/g\n",
    "    theta_max, X = find_max_theta(R, theta)\n",
    "\n",
    "    # calculate R for all theta's traversed\n",
    "    Y = [u**2*math.sin(2*angle)/g for angle in X]\n",
    "    X = [math.degrees(angle) for angle in X]\n",
    "    plt.plot(X, Y, 'ro')\n",
    "    plt.show()\n",
    "    print('Theta: {0}, Max. Range: {1}'.format(theta_max, R.subs({theta:theta_max})))"
   ]
  },
  {
   "cell_type": "code",
   "execution_count": null,
   "metadata": {
    "collapsed": true
   },
   "outputs": [],
   "source": []
  },
  {
   "cell_type": "markdown",
   "metadata": {},
   "source": [
    "## 초기값에 대한 경고\n",
    "\n",
    "* 그래디언트 상승의 반복을 시작할 변수의 초기값은 알고리즘에서 매우 중요한 역할을 한다.\n"
   ]
  },
  {
   "cell_type": "code",
   "execution_count": null,
   "metadata": {
    "collapsed": false
   },
   "outputs": [],
   "source": [
    "import math\n",
    "from sympy import Derivative, Symbol, sin\n",
    "\n",
    "def grad_ascent(x0, f1x, x):\n",
    "    epsilon = 1e-6\n",
    "    step_size = 1e-4\n",
    "    x_old = x0\n",
    "    x_new = x_old + step_size * f1x.subs({x:x_old}).evalf()\n",
    "    while abs(x_old - x_new) > epsilon:\n",
    "        x_old = x_new\n",
    "        x_new = x_old + step_size * f1x.subs({x:x_old}).evalf()\n",
    "        \n",
    "    return x_new\n",
    "\n",
    "def find_max_theta(R, theta):\n",
    "    R1theta = Derivative(R, theta).doit()\n",
    "    theta0 = 0.5\n",
    "    theta_max = grad_ascent(theta0, R1theta, theta)\n",
    "    return theta_max\n",
    "\n",
    "x = Symbol('x')\n",
    "R = x**5 - 30*x**3 + 50*x\n",
    "\n",
    "theta_max = find_max_theta(R, x)\n",
    "print R.subs({x:theta_max})"
   ]
  },
  {
   "cell_type": "code",
   "execution_count": null,
   "metadata": {
    "collapsed": false
   },
   "outputs": [],
   "source": [
    "#P193: This is the program corresponding to Figure 7-5\n",
    "'''\n",
    "Find the angle at which the projectile has maximum range for\n",
    "a fixed velocty, u. This also shows the intermediate points.\n",
    "'''\n",
    "\n",
    "import numpy as np\n",
    "import math\n",
    "import matplotlib.pyplot as plt\n",
    "from sympy import Derivative, Symbol, sin, cos, solve\n",
    "\n",
    "def plot_range_theta(u):\n",
    "    g = 9.8\n",
    "    angles = range(0, 90, 1)\n",
    "    R = [u**2*math.sin(math.radians(2*angle))/g for angle in angles]\n",
    "    plt.plot(angles, R)\n",
    "    # Use LaTex for the X-axis label\n",
    "    #plt.rc('text', usetex=True)\n",
    "    plt.plot(angles, R)\n",
    "    #plt.xlabel(r'$\\theta$ : Angle of projection (degrees)')\n",
    "    plt.ylabel('R: Distance traveled by projectile (meters)')\n",
    "\n",
    "def grad_ascent(x0, f1x):\n",
    "    theta = Symbol('theta')\n",
    "    epsilon = 1e-6\n",
    "    step_size = 1e-4\n",
    "    x_old = x0\n",
    "    x_new = x_old + step_size*f1x.subs({x:x_old}).evalf()\n",
    "\n",
    "    X = []\n",
    "    while abs(x_old - x_new) > epsilon:\n",
    "        X.append(x_new)\n",
    "        x_old = x_new\n",
    "        x_new = x_old + step_size*f1x.subs({x:x_old}).evalf()\n",
    "\n",
    "    return x_new, X\n",
    "\n",
    "def find_max_theta(R, theta):\n",
    "    # Calculate the first derivative\n",
    "    R1theta = Derivative(R, theta).doit()\n",
    "    theta0 = -2\n",
    "    theta_max, X = grad_ascent(theta0, R1theta)\n",
    "    return theta_max.evalf(), X\n",
    "\n",
    "x = Symbol('x')\n",
    "R = x**5 - 30*x**3 + 50*x\n",
    "R_max, X = find_max_theta(R, x)\n",
    "\n",
    "X = np.linspace(-5, 5, 1000)\n",
    "Y = X**5 - 30*X**3 + 50*X\n",
    "plt.plot(X, Y)\n",
    "\n",
    "# calculate R for all theta's traversed\n",
    "Y = [angle**5 - 30*angle**3 + 50*angle for angle in X]\n",
    "X = [angle for angle in X]\n",
    "plt.plot(X, Y, 'ro')"
   ]
  },
  {
   "cell_type": "markdown",
   "metadata": {},
   "source": [
    "## 단계 크기와 입실론의 역할\n",
    "\n",
    "* $\\lambda$는 Step Size를 적절히 설정해주어야 한다.\n",
    "* 만일 이 크기가 작다면, 검색할때 천천히 찾아갈 것이고, 만일 이 크기가 크다면, 듬성 듬성 찾아가서 정답을 지나칠수도 있다.\n",
    "* 알고리즘의 반복을 중단할 시점은 $\\epsilon$으로 표현하는데, x의 값이 변하지 않음을 입증할 만큼 충분히 작은 값이어야 한다.\n",
    "* 여기서는 $10^-6$을 사용했다.\n",
    "* $f'(x)=0$의 해가 존재해야, 해를 찾을 수 있다. \n"
   ]
  },
  {
   "cell_type": "markdown",
   "metadata": {},
   "source": [
    "## 함수의 적분 계산"
   ]
  },
  {
   "cell_type": "code",
   "execution_count": null,
   "metadata": {
    "collapsed": false
   },
   "outputs": [],
   "source": [
    "x = np.linspace(0, 5, 1000)\n",
    "y = x\n",
    "plt.plot(x, y)"
   ]
  },
  {
   "cell_type": "code",
   "execution_count": null,
   "metadata": {
    "collapsed": false
   },
   "outputs": [],
   "source": [
    "from sympy import Integral, Symbol\n",
    "x = Symbol('x')\n",
    "k = Symbol('k')\n",
    "Integral(k*x, x)"
   ]
  },
  {
   "cell_type": "code",
   "execution_count": null,
   "metadata": {
    "collapsed": false
   },
   "outputs": [],
   "source": [
    "print Integral(k*x, x).doit()"
   ]
  },
  {
   "cell_type": "markdown",
   "metadata": {},
   "source": [
    "$$\n",
    "\\int_{0}^{2} k x dx = ?\n",
    "$$"
   ]
  },
  {
   "cell_type": "code",
   "execution_count": null,
   "metadata": {
    "collapsed": false
   },
   "outputs": [],
   "source": [
    "print Integral(k*x, (x, 0, 2)).doit()"
   ]
  },
  {
   "cell_type": "markdown",
   "metadata": {},
   "source": [
    "하지만 모든 함수에 대해서 부정적분을 항상 가능한 것은 아니다!!"
   ]
  },
  {
   "cell_type": "markdown",
   "metadata": {},
   "source": []
  }
 ],
 "metadata": {
  "kernelspec": {
   "display_name": "Python 2",
   "language": "python",
   "name": "python2"
  },
  "language_info": {
   "codemirror_mode": {
    "name": "ipython",
    "version": 2
   },
   "file_extension": ".py",
   "mimetype": "text/x-python",
   "name": "python",
   "nbconvert_exporter": "python",
   "pygments_lexer": "ipython2",
   "version": "2.7.12"
  }
 },
 "nbformat": 4,
 "nbformat_minor": 0
}
